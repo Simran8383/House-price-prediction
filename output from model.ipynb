{
 "cells": [
  {
   "cell_type": "markdown",
   "id": "4f4bb907",
   "metadata": {},
   "source": [
    "1) Linear Regression\n",
    "Mean:  5.063855593149921\n",
    "Standard deviation:  0.7592742080500836\n",
    "\n",
    "2) Decision Tree regressor\n",
    "Mean:  5.285132212583818\n",
    "Standard deviation:  0.6452741510991807\n",
    "\n",
    "3) Random Forest regression\n",
    "Mean:  3.4055423899816155\n",
    "Standard deviation:  0.5344893587687859"
   ]
  }
 ],
 "metadata": {
  "kernelspec": {
   "display_name": "Python 3 (ipykernel)",
   "language": "python",
   "name": "python3"
  },
  "language_info": {
   "codemirror_mode": {
    "name": "ipython",
    "version": 3
   },
   "file_extension": ".py",
   "mimetype": "text/x-python",
   "name": "python",
   "nbconvert_exporter": "python",
   "pygments_lexer": "ipython3",
   "version": "3.9.5"
  }
 },
 "nbformat": 4,
 "nbformat_minor": 5
}
